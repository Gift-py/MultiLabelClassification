{
 "cells": [
  {
   "cell_type": "code",
   "execution_count": 13,
   "metadata": {},
   "outputs": [
    {
     "data": {
      "text/plain": [
       "{'numbers': [1, 2, 3.5, 5], 'uppercase': ['g', 'q'], 'lowercase': ['H', 'W']}"
      ]
     },
     "execution_count": 13,
     "metadata": {},
     "output_type": "execute_result"
    }
   ],
   "source": [
    "\n",
    "\n",
    "\n",
    "from typing import final\n",
    "\n",
    "\n",
    "lst = [1, 'q', 2, 'W', 5, 'g', 'H', 3.5]\n",
    "\n",
    "def list_classifier(lst):\n",
    "    num = []\n",
    "    lower = []\n",
    "    upper = []\n",
    "\n",
    "    for item in lst:\n",
    "        if isinstance(item, int) or isinstance(item, float):\n",
    "            num.append(item)\n",
    "        elif item.islower():\n",
    "            lower.append(item)\n",
    "        elif item.isupper():\n",
    "            upper.append(item)\n",
    "\n",
    "    num = sorted(num)\n",
    "    lower = sorted(lower)\n",
    "    upper = sorted(upper)\n",
    "\n",
    "    dict_key = ['numbers', 'uppercase', 'lowercase']\n",
    "    dict_item = [num, lower, upper]\n",
    "\n",
    "    final_dict = {}\n",
    "\n",
    "    for key, value in zip(dict_key, dict_item):\n",
    "        final_dict[key] = value\n",
    "    \n",
    "    return final_dict\n",
    "\n",
    "list_classifier(lst)\n"
   ]
  },
  {
   "cell_type": "code",
   "execution_count": 67,
   "metadata": {},
   "outputs": [
    {
     "name": "stdout",
     "output_type": "stream",
     "text": [
      "['Explorer,', 'this', 'is', 'why', 'you', \"should'nt\", 'come', 'to', 'a', 'test', 'unprepared']\n",
      "['is', \"should'nt\", 'a']\n"
     ]
    },
    {
     "data": {
      "text/plain": [
       "\"Explorer, this ## why you ######'## come to # test unprepared\""
      ]
     },
     "execution_count": 67,
     "metadata": {},
     "output_type": "execute_result"
    }
   ],
   "source": [
    "str = 'Explorer, this is why you should\\'nt come to a test unprepared'\n",
    "lst = str.split()\n",
    "print(lst)\n",
    "\n",
    "words_to_hash = []\n",
    "\n",
    "symbol_list = ['\\'', '?', '!']\n",
    "\n",
    "for i in range(len(lst)):\n",
    "    if i % 3 == 0 and i !=0:\n",
    "        words_to_hash.append(lst[i-1])\n",
    "\n",
    "print(words_to_hash)\n",
    "hash_words = []\n",
    "for word in words_to_hash:\n",
    "    new_word_list = []\n",
    "    for letter in word:\n",
    "        if letter in symbol_list:\n",
    "            new_word_list.append(letter)\n",
    "        else:\n",
    "            new_word_list.append('#')\n",
    "    new_word = ''.join(new_word_list)\n",
    "    hash_words.append(new_word)\n",
    "\n",
    "for i in range(len(lst)):\n",
    "    if i % 3 == 0 and i !=0:\n",
    "        lst[i-1] = hash_words[0]\n",
    "        hash_words.pop(0)\n",
    "\n",
    "final_string = ' '.join(lst)\n",
    "\n",
    "final_string\n",
    "    "
   ]
  },
  {
   "cell_type": "code",
   "execution_count": null,
   "metadata": {},
   "outputs": [],
   "source": []
  }
 ],
 "metadata": {
  "kernelspec": {
   "display_name": "Python 3.10.7 64-bit (microsoft store)",
   "language": "python",
   "name": "python3"
  },
  "language_info": {
   "codemirror_mode": {
    "name": "ipython",
    "version": 3
   },
   "file_extension": ".py",
   "mimetype": "text/x-python",
   "name": "python",
   "nbconvert_exporter": "python",
   "pygments_lexer": "ipython3",
   "version": "3.10.7"
  },
  "orig_nbformat": 4,
  "vscode": {
   "interpreter": {
    "hash": "1fb6802bca10536631454388dc7754e14df50e11a5efcab5b6d4dac13af1b70b"
   }
  }
 },
 "nbformat": 4,
 "nbformat_minor": 2
}
