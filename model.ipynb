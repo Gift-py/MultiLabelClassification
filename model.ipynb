{
 "cells": [
  {
   "cell_type": "markdown",
   "metadata": {},
   "source": [
    "Here I'm going to basically try to predict the missing values in the \"Market Category\" column"
   ]
  },
  {
   "cell_type": "code",
   "execution_count": 1,
   "metadata": {},
   "outputs": [],
   "source": [
    "import numpy as np\n",
    "import pandas as pd"
   ]
  },
  {
   "cell_type": "code",
   "execution_count": 2,
   "metadata": {},
   "outputs": [],
   "source": [
    "df = pd.read_csv('data.csv')"
   ]
  },
  {
   "cell_type": "code",
   "execution_count": 3,
   "metadata": {},
   "outputs": [],
   "source": [
    "df['Engine Fuel Type'].fillna(method='ffill', inplace=True)\n",
    "df['Engine HP'].fillna(df['Engine HP'].median(), inplace = True)\n",
    "df['Engine Cylinders'].fillna(df['Engine Cylinders'].mean(), inplace = True)\n",
    "df['Number of Doors'].fillna(method='ffill', inplace = True)"
   ]
  },
  {
   "cell_type": "code",
   "execution_count": 7,
   "metadata": {},
   "outputs": [
    {
     "name": "stdout",
     "output_type": "stream",
     "text": [
      "48\n",
      "10\n",
      "5\n",
      "4\n",
      "3\n",
      "16\n"
     ]
    }
   ],
   "source": [
    "#we need to drop the model of the car\n",
    "#to OHE categorical columns\n",
    "#categorical columns ->  Make, Engine Fuel Type, Transmission Type, Driven_Wheels, Vehicle Size, Vehicle Style\n",
    "\n",
    "print(df['Make'].nunique())\n",
    "print(df['Engine Fuel Type'].nunique())\n",
    "print(df['Transmission Type'].nunique())\n",
    "print(df['Driven_Wheels'].nunique())\n",
    "print(df['Vehicle Size'].nunique())\n",
    "print(df['Vehicle Style'].nunique())\n"
   ]
  },
  {
   "cell_type": "code",
   "execution_count": null,
   "metadata": {},
   "outputs": [],
   "source": [
    "#Market Category\n",
    "#this is a categorical column\n",
    "lst = df['Market Category'].unique()\n",
    "\n",
    "category_list = []\n",
    "#loop extracts unique label for the market category column\n",
    "for i in lst:\n",
    "    if isinstance(i, str):\n",
    "        if ',' in i:\n",
    "            new_list = i.split(',')\n",
    "            for j in new_list:\n",
    "                if j in category_list:\n",
    "                    print(j, 'already found')\n",
    "                    continue\n",
    "                else:\n",
    "                    category_list.append(j)\n",
    "                    print(j, 'added')\n",
    "        else:\n",
    "            if i in category_list:\n",
    "                print(i, 'already found')\n",
    "                continue\n",
    "            else:\n",
    "                category_list.append(i)\n",
    "                print(i, 'added')\n"
   ]
  },
  {
   "cell_type": "code",
   "execution_count": null,
   "metadata": {},
   "outputs": [],
   "source": [
    "#custom OHE function for list\n",
    "\n",
    "def ohe_list(df_col, categories):\n",
    "    #create a dictionary map\n",
    "    label_to_int = dict((c, i) for i, c in enumerate(categories))\n",
    "    int_to_label = dict((i, c) for i, c in enumerate(categories))\n",
    "\n",
    "    #encode to integer\n",
    "    label_encoded = [[[label_to_int[label] for label in cell.split(',') ] for cell in row] for row in df_col]\n",
    "\n",
    "    #create one hot list\n",
    "    oh_list = list()\n",
    "\n",
    "    for row in label_encoded:\n",
    "        for cell in row:\n",
    "            cell_enc = [0 for _ in range(len(categories))]\n",
    "            for label in cell:\n",
    "                cell_enc[label] = 1\n",
    "            oh_list.append(cell_enc)\n",
    "\n",
    "    return oh_list \n"
   ]
  }
 ],
 "metadata": {
  "kernelspec": {
   "display_name": "Python 3.10.7 64-bit (microsoft store)",
   "language": "python",
   "name": "python3"
  },
  "language_info": {
   "codemirror_mode": {
    "name": "ipython",
    "version": 3
   },
   "file_extension": ".py",
   "mimetype": "text/x-python",
   "name": "python",
   "nbconvert_exporter": "python",
   "pygments_lexer": "ipython3",
   "version": "3.10.7"
  },
  "orig_nbformat": 4,
  "vscode": {
   "interpreter": {
    "hash": "1fb6802bca10536631454388dc7754e14df50e11a5efcab5b6d4dac13af1b70b"
   }
  }
 },
 "nbformat": 4,
 "nbformat_minor": 2
}
