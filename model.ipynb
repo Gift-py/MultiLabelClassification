{
 "cells": [
  {
   "cell_type": "markdown",
   "metadata": {},
   "source": [
    "Here I'm going to basically try to predict the missing values in the \"Market Category\" column"
   ]
  },
  {
   "cell_type": "code",
   "execution_count": null,
   "metadata": {},
   "outputs": [],
   "source": [
    "import numpy as np\n",
    "import pandas as pd\n",
    "from numpy import mean, std\n",
    "from sklearn.preprocessing import OneHotEncoder, MultiLabelBinarizer\n",
    "from sklearn.model_selection import RepeatedKFold\n",
    "from keras.models import Sequential\n",
    "from keras.layers import Dense\n",
    "from sklearn.metrics import accuracy_score\n",
    "from tensorflow import keras"
   ]
  },
  {
   "cell_type": "code",
   "execution_count": null,
   "metadata": {},
   "outputs": [],
   "source": [
    "df = pd.read_csv('data.csv')"
   ]
  },
  {
   "cell_type": "code",
   "execution_count": null,
   "metadata": {},
   "outputs": [],
   "source": [
    "df['Engine Fuel Type'].fillna(method='ffill', inplace=True)\n",
    "df['Engine HP'].fillna(df['Engine HP'].median(), inplace = True)\n",
    "df['Engine Cylinders'].fillna(df['Engine Cylinders'].mean(), inplace = True)\n",
    "df['Number of Doors'].fillna(method='ffill', inplace = True)\n",
    "df.drop('Model', axis=1, inplace=True)"
   ]
  },
  {
   "cell_type": "code",
   "execution_count": null,
   "metadata": {},
   "outputs": [],
   "source": [
    "ohe = OneHotEncoder()\n",
    "y_df = ohe.fit_transform(df['Market Category'])\n",
    "y_df"
   ]
  },
  {
   "cell_type": "code",
   "execution_count": null,
   "metadata": {},
   "outputs": [],
   "source": [
    "#we need to drop the model of the car\n",
    "#to OHE categorical columns\n",
    "\n",
    "# categorical_columns = ['Make', 'Engine Fuel Type', 'Transmission Type', 'Driven_Wheels', 'Vehicle Size', 'Vehicle Style']\n",
    "\n",
<<<<<<< HEAD
    "# #encoding of categorical columns\n",
=======
    "#encoding of categorical columns\n",
>>>>>>> d2f7a4dc20be3c74b4b754fdfdba989d8f3142bb
    "# for column in categorical_columns:\n",
    "#     tempdf = pd.get_dummies(df[column],  prefix=column)\n",
    "#     df = pd.concat([df, tempdf], axis=1)\n",
    "\n",
<<<<<<< HEAD
    "#     df.drop(column, axis=1, inplace=True)\n",
    "\n",
    "#WE DO NOT REALLY NEED TO ENCODE SINCE WEKA WOULD TAKE CARE OF THIS ISSUE"
=======
    "#     df.drop(column, axis=1, inplace=True)"
>>>>>>> d2f7a4dc20be3c74b4b754fdfdba989d8f3142bb
   ]
  },
  {
   "cell_type": "code",
   "execution_count": null,
   "metadata": {},
   "outputs": [],
   "source": [
    "#Market Category\n",
    "#this is a categorical column\n",
    "lst = df['Market Category'].unique()\n",
    "\n",
    "category_list = []\n",
    "#loop extracts unique label for the market category column \n",
    "for i in lst:\n",
    "    if isinstance(i, str):\n",
    "        if ',' in i:\n",
    "            new_list = i.split(',')\n",
    "            for j in new_list:\n",
    "                if j in category_list:\n",
    "                    print(j, 'already found')\n",
    "                    continue\n",
    "                else:\n",
    "                    category_list.append(j)\n",
    "                    print(j, 'added')\n",
    "        else:\n",
    "            if i in category_list:\n",
    "                print(i, 'already found')\n",
    "                continue\n",
    "            else:\n",
    "                category_list.append(i)\n",
    "                print(i, 'added')\n"
   ]
  },
  {
   "cell_type": "code",
   "execution_count": null,
   "metadata": {},
<<<<<<< HEAD
   "outputs": [],
=======
   "outputs": [
    {
     "name": "stderr",
     "output_type": "stream",
     "text": [
      "C:\\Users\\Gift\\AppData\\Local\\Temp\\ipykernel_17484\\3728987043.py:6: SettingWithCopyWarning: \n",
      "A value is trying to be set on a copy of a slice from a DataFrame\n",
      "\n",
      "See the caveats in the documentation: https://pandas.pydata.org/pandas-docs/stable/user_guide/indexing.html#returning-a-view-versus-a-copy\n",
      "  prediction_df.drop('Market Category', axis=1, inplace=True)\n"
     ]
    }
   ],
>>>>>>> d2f7a4dc20be3c74b4b754fdfdba989d8f3142bb
   "source": [
    "#create new df containg rows with missing market category (test_df)\n",
    "prediction_df = df.loc[df['Market Category'].isna()]\n",
    "#drop rows with missing market category\n",
    "df.drop(df.index[df['Market Category'].isna()], inplace=True)\n",
    "#drop market category column\n",
    "prediction_df.drop('Market Category', axis=1, inplace=True)"
   ]
  },
  {
   "cell_type": "code",
   "execution_count": null,
   "metadata": {},
   "outputs": [],
   "source": [
    "#output column ('y')\n",
    "df_y = df.pop('Market Category')\n",
    "#changing format of column rows into one that is easier to encode\n",
    "df_y = df_y.apply(lambda x: [x])"
   ]
  },
  {
   "cell_type": "code",
   "execution_count": null,
   "metadata": {},
   "outputs": [],
   "source": [
    "df = df.reset_index()\n",
    "#df_y = df_y.reset_index()"
   ]
  },
  {
   "cell_type": "code",
   "execution_count": null,
   "metadata": {},
   "outputs": [],
   "source": [
    "#custom OHE function for y_column\n",
    "\n",
    "def ohe_list(df_col, categories):\n",
    "    #create a dictionary map\n",
    "    label_to_int = dict((c, i) for i, c in enumerate(categories))\n",
    "    #int_to_label = dict((i, c) for i, c in enumerate(categories))\n",
    "\n",
    "    #encode to integer\n",
    "    label_encoded = [[[label_to_int[label] for label in cell.split(',') ] for cell in row] for row in df_col]\n",
    "\n",
    "    #create one hot list\n",
    "    oh_list = list()\n",
    "\n",
    "    for row in label_encoded:\n",
    "        for cell in row:\n",
    "            cell_enc = [0 for _ in range(len(categories))]\n",
    "            for label in cell:\n",
    "                cell_enc[label] = 1\n",
    "            oh_list.append(cell_enc)\n",
    "\n",
    "    return oh_list \n"
   ]
  },
  {
   "cell_type": "code",
   "execution_count": null,
   "metadata": {},
   "outputs": [],
   "source": [
    "df_y_enc = ohe_list(df_y, category_list)"
   ]
  },
  {
   "cell_type": "code",
   "execution_count": null,
   "metadata": {},
   "outputs": [],
   "source": [
    "df_y_enc = pd.DataFrame(df_y_enc)\n",
    "df_y_enc"
   ]
  },
  {
   "cell_type": "code",
   "execution_count": null,
   "metadata": {},
   "outputs": [],
   "source": [
    "#model was not sufficient\n",
    "#was to lazy to build a model\n",
    "#used weka instead\n",
    "def get_model(n_inputs, n_outputs):\n",
    "\tmodel = Sequential()\n",
    "\tmodel.add(Dense(20, input_dim=n_inputs, kernel_initializer='he_uniform', activation='relu'))\n",
    "\tmodel.add(Dense(n_outputs, activation='sigmoid'))\n",
    "\tmodel.compile(loss='binary_crossentropy', optimizer='adam')\n",
    "\treturn model\n",
    "\n",
    "#really lame model lol"
   ]
  },
  {
   "cell_type": "code",
   "execution_count": null,
   "metadata": {},
   "outputs": [],
   "source": [
    "def evaluate_model(X, y):\n",
    "    results = list()\n",
    "    n_inputs, n_outputs = X.shape[1], y.shape[1]\n",
    "\n",
    "    #defining evaluation precedure\n",
    "    cross_val = RepeatedKFold(n_splits=10, n_repeats=3, random_state=1)\n",
    "    for train, test in cross_val.split(X):\n",
    "        X_train, X_test = X.loc[train, X.columns], X.loc[test, X.columns]\n",
    "        y_train, y_test = y.loc[train, y.columns], y.loc[test, y.columns]\n",
    "\n",
    "        model = get_model(n_inputs, n_outputs)\n",
    "        model_history = model.fit(X_train, y_train, epochs=10)\n",
    "\n",
    "        y_hat = model.predict(X_test)\n",
    "        y_hat = y_hat.round()\n",
    "\n",
    "        acc = accuracy_score(y_test, y_hat)\n",
    "        print('\\n >%.3f \\n\\n' %acc)\n",
    "        results.append(acc)\n",
    "    return results, model_history\n",
    "        \n",
    "#well this was pointless"
   ]
  },
  {
   "cell_type": "code",
<<<<<<< HEAD
   "execution_count": null,
   "metadata": {},
   "outputs": [],
   "source": [
    "#results, model_hist = evaluate_model(df, df_y_enc)\n",
    "#print('Accuracy: %.3f (%.3f)' % (mean(results), std(results)))\n",
    "\n",
    "#avg accuracy is 30% (really poor)"
   ]
  },
  {
   "cell_type": "markdown",
   "metadata": {},
   "source": [
    "Create new data set to use on weka "
   ]
  },
  {
   "cell_type": "code",
   "execution_count": null,
   "metadata": {},
   "outputs": [],
   "source": [
    "df['y_axis'] = df_y_enc[df_y_enc.columns[0:]].apply(lambda x: [i for i in x], axis=1)"
=======
   "execution_count": 11,
   "metadata": {},
   "outputs": [
    {
     "data": {
      "text/plain": [
       "<bound method NDFrame.head of       index    Make  Year                Engine Fuel Type  Engine HP  \\\n",
       "0        87  Nissan  1996                regular unleaded      115.0   \n",
       "1        88  Nissan  1996                regular unleaded      115.0   \n",
       "2        91  Nissan  1997                regular unleaded      115.0   \n",
       "3        92  Nissan  1997                regular unleaded      115.0   \n",
       "4        93  Nissan  1998                regular unleaded      115.0   \n",
       "...     ...     ...   ...                             ...        ...   \n",
       "3737  11794  Subaru  1991                regular unleaded      145.0   \n",
       "3738  11809  Toyota  2017                regular unleaded      106.0   \n",
       "3739  11810  Toyota  2017                regular unleaded      106.0   \n",
       "3740  11867     GMC  2015  premium unleaded (recommended)      420.0   \n",
       "3741  11868     GMC  2015  premium unleaded (recommended)      420.0   \n",
       "\n",
       "      Engine Cylinders Transmission Type      Driven_Wheels  Number of Doors  \\\n",
       "0                  4.0            MANUAL  front wheel drive              2.0   \n",
       "1                  4.0            MANUAL  front wheel drive              2.0   \n",
       "2                  4.0            MANUAL  front wheel drive              2.0   \n",
       "3                  4.0            MANUAL  front wheel drive              2.0   \n",
       "4                  4.0            MANUAL  front wheel drive              2.0   \n",
       "...                ...               ...                ...              ...   \n",
       "3737               6.0            MANUAL    all wheel drive              2.0   \n",
       "3738               4.0            MANUAL  front wheel drive              4.0   \n",
       "3739               4.0         AUTOMATIC  front wheel drive              4.0   \n",
       "3740               8.0         AUTOMATIC   rear wheel drive              4.0   \n",
       "3741               8.0         AUTOMATIC   four wheel drive              4.0   \n",
       "\n",
       "     Vehicle Size Vehicle Style  highway MPG  city mpg  Popularity   MSRP  \n",
       "0         Compact         Coupe           36        26        2009   2000  \n",
       "1         Compact         Coupe           36        26        2009   2000  \n",
       "2         Compact         Coupe           35        25        2009   2000  \n",
       "3         Compact         Coupe           35        25        2009   2000  \n",
       "4         Compact         Coupe           35        25        2009   2000  \n",
       "...           ...           ...          ...       ...         ...    ...  \n",
       "3737      Compact         Coupe           23        16         640   2000  \n",
       "3738      Compact         Sedan           39        30        2031  15950  \n",
       "3739      Compact         Sedan           40        32        2031  17050  \n",
       "3740        Large       4dr SUV           21        15         549  64520  \n",
       "3741        Large       4dr SUV           21        14         549  67520  \n",
       "\n",
       "[3742 rows x 15 columns]>"
      ]
     },
     "execution_count": 11,
     "metadata": {},
     "output_type": "execute_result"
    }
   ],
   "source": [
    "prediction_df.reset_index(inplace=True)\n",
    "prediction_df.head\n"
>>>>>>> d2f7a4dc20be3c74b4b754fdfdba989d8f3142bb
   ]
  },
  {
   "cell_type": "code",
   "execution_count": null,
   "metadata": {},
   "outputs": [],
   "source": [
<<<<<<< HEAD
    "df.to_csv('processed_data.csv', index=False)"
=======
    "prediction_df.to_csv('prediction.csv', index=False)\n"
>>>>>>> d2f7a4dc20be3c74b4b754fdfdba989d8f3142bb
   ]
  },
  {
   "cell_type": "code",
   "execution_count": null,
   "metadata": {},
   "outputs": [],
   "source": [
<<<<<<< HEAD
    "test_df = pd.read_csv('to_predict.csv')  #this csv file was deleted\n",
    "test_df.columns"
   ]
  },
  {
   "cell_type": "code",
   "execution_count": null,
   "metadata": {},
   "outputs": [],
   "source": [
    "#test_df.drop(test_df['index'], axis=1, inplace=True)\n",
    "del test_df['index']\n",
    "test_df.reset_index(inplace=True)\n",
    "test_df['y_axis'] = '?'"
   ]
  },
  {
   "cell_type": "code",
   "execution_count": null,
   "metadata": {},
   "outputs": [],
   "source": [
    "test_df.to_csv('to_pred.csv', index=False, index_label=False)"
   ]
  },
  {
   "cell_type": "markdown",
   "metadata": {},
   "source": [
    "### NOTES ###\n",
    "-> Weka can only predice a certain amount of supplied test values at a time (Well at least I have'nt found a way around it)  \n",
    "\n",
    "-> The test dataset (to_predict) must have the same columns as the train dataset when suppling to weka (including the column with missing values... all you have to do is to populate that column with \"?\")  \n",
    "\n",
    "-> Javabridge installation is not working (I have to find a way to fix this asap!)  \n",
    "\n",
    "-> Decode function not yet imlpemented (This would be completed later)\n"
=======
    "prediction_df = pd.read_csv('prediction.csv')\n",
    "prediction_df.drop('index', axis=1, inplace=True)\n",
    "prediction_df.reset_index(inplace=True)\n",
    "prediction_df.to_csv('to_predict.csv', index=False)\n"
>>>>>>> d2f7a4dc20be3c74b4b754fdfdba989d8f3142bb
   ]
  }
 ],
 "metadata": {
  "kernelspec": {
   "display_name": "Python 3.10.7 64-bit (microsoft store)",
   "language": "python",
   "name": "python3"
  },
  "language_info": {
   "codemirror_mode": {
    "name": "ipython",
    "version": 3
   },
   "file_extension": ".py",
   "mimetype": "text/x-python",
   "name": "python",
   "nbconvert_exporter": "python",
   "pygments_lexer": "ipython3",
   "version": "3.10.7"
  },
  "orig_nbformat": 4,
  "vscode": {
   "interpreter": {
    "hash": "1fb6802bca10536631454388dc7754e14df50e11a5efcab5b6d4dac13af1b70b"
   }
  }
 },
 "nbformat": 4,
 "nbformat_minor": 2
}
