{
 "cells": [
  {
   "cell_type": "code",
   "execution_count": 1,
   "metadata": {},
   "outputs": [],
   "source": [
    "import numpy as np\n",
    "import pandas as pd\n",
    "import seaborn as sns\n",
    "import matplotlib.pyplot as plt"
   ]
  },
  {
   "cell_type": "code",
   "execution_count": 2,
   "metadata": {},
   "outputs": [],
   "source": [
    "df = pd.read_csv('data.csv')"
   ]
  },
  {
   "cell_type": "markdown",
   "metadata": {},
   "source": [
    "AI classes assignment"
   ]
  },
  {
   "cell_type": "code",
   "execution_count": 3,
   "metadata": {},
   "outputs": [
    {
     "name": "stdout",
     "output_type": "stream",
     "text": [
      "6.0 6.0\n"
     ]
    },
    {
     "data": {
      "text/plain": [
       "30"
      ]
     },
     "execution_count": 3,
     "metadata": {},
     "output_type": "execute_result"
    }
   ],
   "source": [
    "eng_cylinders_median = df['Engine Cylinders'].median()\n",
    "eng_cylinders_mode = df['Engine Cylinders'].mode()\n",
    "df['Engine Cylinders'].fillna(value=eng_cylinders_mode, inplace=True)\n",
    "eng_cylinders_median2 = df['Engine Cylinders'].median()\n",
    "\n",
    "print(eng_cylinders_median, eng_cylinders_median2)\n",
    "df['Engine Cylinders'].isna().sum()\n"
   ]
  },
  {
   "cell_type": "code",
   "execution_count": 4,
   "metadata": {},
   "outputs": [
    {
     "data": {
      "text/html": [
       "<div>\n",
       "<style scoped>\n",
       "    .dataframe tbody tr th:only-of-type {\n",
       "        vertical-align: middle;\n",
       "    }\n",
       "\n",
       "    .dataframe tbody tr th {\n",
       "        vertical-align: top;\n",
       "    }\n",
       "\n",
       "    .dataframe thead th {\n",
       "        text-align: right;\n",
       "    }\n",
       "</style>\n",
       "<table border=\"1\" class=\"dataframe\">\n",
       "  <thead>\n",
       "    <tr style=\"text-align: right;\">\n",
       "      <th></th>\n",
       "      <th>Engine HP</th>\n",
       "      <th>Engine Cylinders</th>\n",
       "    </tr>\n",
       "  </thead>\n",
       "  <tbody>\n",
       "    <tr>\n",
       "      <th>3912</th>\n",
       "      <td>189.0</td>\n",
       "      <td>4.0</td>\n",
       "    </tr>\n",
       "    <tr>\n",
       "      <th>3913</th>\n",
       "      <td>218.0</td>\n",
       "      <td>4.0</td>\n",
       "    </tr>\n",
       "    <tr>\n",
       "      <th>3918</th>\n",
       "      <td>217.0</td>\n",
       "      <td>4.0</td>\n",
       "    </tr>\n",
       "    <tr>\n",
       "      <th>4216</th>\n",
       "      <td>350.0</td>\n",
       "      <td>8.0</td>\n",
       "    </tr>\n",
       "    <tr>\n",
       "      <th>4257</th>\n",
       "      <td>400.0</td>\n",
       "      <td>6.0</td>\n",
       "    </tr>\n",
       "    <tr>\n",
       "      <th>4259</th>\n",
       "      <td>276.0</td>\n",
       "      <td>6.0</td>\n",
       "    </tr>\n",
       "    <tr>\n",
       "      <th>4262</th>\n",
       "      <td>345.0</td>\n",
       "      <td>6.0</td>\n",
       "    </tr>\n",
       "    <tr>\n",
       "      <th>4292</th>\n",
       "      <td>257.0</td>\n",
       "      <td>4.0</td>\n",
       "    </tr>\n",
       "    <tr>\n",
       "      <th>4293</th>\n",
       "      <td>240.0</td>\n",
       "      <td>4.0</td>\n",
       "    </tr>\n",
       "  </tbody>\n",
       "</table>\n",
       "</div>"
      ],
      "text/plain": [
       "      Engine HP  Engine Cylinders\n",
       "3912      189.0               4.0\n",
       "3913      218.0               4.0\n",
       "3918      217.0               4.0\n",
       "4216      350.0               8.0\n",
       "4257      400.0               6.0\n",
       "4259      276.0               6.0\n",
       "4262      345.0               6.0\n",
       "4292      257.0               4.0\n",
       "4293      240.0               4.0"
      ]
     },
     "execution_count": 4,
     "metadata": {},
     "output_type": "execute_result"
    }
   ],
   "source": [
    "lotusdf = df[df['Make'] == 'Lotus']\n",
    "lotusdf = lotusdf[['Engine HP' ,'Engine Cylinders']]\n",
    "lotusdf = lotusdf.drop_duplicates()\n",
    "lotusdf"
   ]
  },
  {
   "cell_type": "code",
   "execution_count": 5,
   "metadata": {},
   "outputs": [
    {
     "data": {
      "text/plain": [
       "array([[ 5.53084235e-05, -2.94319825e-03],\n",
       "       [-2.94319825e-03,  1.60588447e-01]])"
      ]
     },
     "execution_count": 5,
     "metadata": {},
     "output_type": "execute_result"
    }
   ],
   "source": [
    "#converting lotus df to numpy array\n",
    "x = lotusdf.to_numpy()\n",
    "#transpose of x  (\"@\" operation is multiplication)\n",
    "x_t = x.T @ x\n",
    "#inverse x transpose\n",
    "x_t_inverse = np.linalg.inv(x_t)\n",
    "x_t_inverse\n"
   ]
  },
  {
   "cell_type": "code",
   "execution_count": 6,
   "metadata": {},
   "outputs": [
    {
     "data": {
      "text/plain": [
       "4.594944810094551"
      ]
     },
     "execution_count": 6,
     "metadata": {},
     "output_type": "execute_result"
    }
   ],
   "source": [
    "y = np.array([1100, 800, 750, 850, 1300, 1000, 1000, 1300, 800])\n",
    "\n",
    "w = (x_t_inverse @ x.T) @ y\n",
    "\n",
    "w[0]\n",
    "\n",
    "#w is the normal equation\n",
    "#NORMAL EQUATION => \n",
    "# w = (X.T * X)^-1 * X.T * Y"
   ]
  },
  {
   "cell_type": "markdown",
   "metadata": {},
   "source": [
    "My Puny attempt at EDA (PS I have no idea what im doing Im just going to play around here)"
   ]
  },
  {
   "cell_type": "code",
   "execution_count": 7,
   "metadata": {},
   "outputs": [
    {
     "data": {
      "text/plain": [
       "Make                    0\n",
       "Model                   0\n",
       "Year                    0\n",
       "Engine Fuel Type        3\n",
       "Engine HP              69\n",
       "Engine Cylinders       30\n",
       "Transmission Type       0\n",
       "Driven_Wheels           0\n",
       "Number of Doors         6\n",
       "Market Category      3742\n",
       "Vehicle Size            0\n",
       "Vehicle Style           0\n",
       "highway MPG             0\n",
       "city mpg                0\n",
       "Popularity              0\n",
       "MSRP                    0\n",
       "dtype: int64"
      ]
     },
     "execution_count": 7,
     "metadata": {},
     "output_type": "execute_result"
    }
   ],
   "source": [
    "#check for missing values\n",
    "df.isna().sum()"
   ]
  },
  {
   "cell_type": "code",
   "execution_count": 8,
   "metadata": {},
   "outputs": [
    {
     "name": "stdout",
     "output_type": "stream",
     "text": [
      "['premium unleaded (required)' 'regular unleaded'\n",
      " 'premium unleaded (recommended)' 'flex-fuel (unleaded/E85)' 'diesel'\n",
      " 'electric' 'flex-fuel (premium unleaded recommended/E85)' 'natural gas'\n",
      " 'flex-fuel (premium unleaded required/E85)'\n",
      " 'flex-fuel (unleaded/natural gas)' nan]\n"
     ]
    }
   ],
   "source": [
    "#aiit a couple of missing values now to find a way to fill them \n",
    "#I could try filling the values, column by column ()\n",
    "\n",
    "#engine fuel type is a categorical column \n",
    "print(df['Engine Fuel Type'].unique())      #10 unique categories\n",
    "\n",
    "df[df['Engine Fuel Type'].isna()]       #okayy we can see them they probably have the same fuel type since they are of the same car model\n",
    "#sooo i check the data manually and the fuel type is most likely going to be 'regular unleaded' since the later model of the car uses the same fuel type\n",
    "#I'm just going to perform a simple ffill\n",
    "\n",
    "df['Engine Fuel Type'].fillna(method='ffill', inplace=True)"
   ]
  },
  {
   "cell_type": "code",
   "execution_count": 9,
   "metadata": {},
   "outputs": [
    {
     "name": "stdout",
     "output_type": "stream",
     "text": [
      "249.38607007176023\n",
      "227.0\n",
      "0    200.0\n",
      "Name: Engine HP, dtype: float64\n"
     ]
    },
    {
     "data": {
      "image/png": "[encoded data removed]",
      "text/plain": [
       "<Figure size 432x288 with 1 Axes>"
      ]
     },
     "metadata": {
      "needs_background": "light"
     },
     "output_type": "display_data"
    }
   ],
   "source": [
    "#Engine HP\n",
    "#since Engine HP is a numeric column\n",
    "#we can check distribution and fill columns from the graph\n",
    "\n",
    "print(df['Engine HP'].mean())\n",
    "print(df['Engine HP'].median())\n",
    "print(df['Engine HP'].mode())\n",
    "sns.kdeplot(df['Engine HP'])\n",
    "#sns.boxplot(df['Engine HP'])\n",
    "\n",
    "#I'm going to use median since the distribution is skewed and there are outliers so we cannot really use mean\n",
    "#I would've probably used mode but !!! It just does'nt fell right to do so 🤔\n",
    "\n",
    "df['Engine HP'].fillna(df['Engine HP'].median(), inplace = True)\n",
    "\n",
    "#sns.kdeplot(df['Engine HP'])    #mehh looks roughly thesame idk"
   ]
  },
  {
   "cell_type": "code",
   "execution_count": 10,
   "metadata": {},
   "outputs": [
    {
     "name": "stdout",
     "output_type": "stream",
     "text": [
      "5.628828677213059\n",
      "6.0\n",
      "0    4.0\n",
      "Name: Engine Cylinders, dtype: float64\n"
     ]
    },
    {
     "name": "stderr",
     "output_type": "stream",
     "text": [
      "C:\\Users\\Gift\\AppData\\Local\\Packages\\PythonSoftwareFoundation.Python.3.10_qbz5n2kfra8p0\\LocalCache\\local-packages\\Python310\\site-packages\\seaborn\\_decorators.py:36: FutureWarning: Pass the following variable as a keyword arg: x. From version 0.12, the only valid positional argument will be `data`, and passing other arguments without an explicit keyword will result in an error or misinterpretation.\n",
      "  warnings.warn(\n",
      "C:\\Users\\Gift\\AppData\\Local\\Packages\\PythonSoftwareFoundation.Python.3.10_qbz5n2kfra8p0\\LocalCache\\local-packages\\Python310\\site-packages\\seaborn\\_decorators.py:36: FutureWarning: Pass the following variable as a keyword arg: x. From version 0.12, the only valid positional argument will be `data`, and passing other arguments without an explicit keyword will result in an error or misinterpretation.\n",
      "  warnings.warn(\n"
     ]
    },
    {
     "data": {
      "text/plain": [
       "<AxesSubplot:xlabel='Engine Cylinders'>"
      ]
     },
     "execution_count": 10,
     "metadata": {},
     "output_type": "execute_result"
    },
    {
     "data": {
      "image/png": "[encoded data removed]",
      "text/plain": [
       "<Figure size 432x288 with 1 Axes>"
      ]
     },
     "metadata": {
      "needs_background": "light"
     },
     "output_type": "display_data"
    }
   ],
   "source": [
    "#Engine Cylinders\n",
    "#using the same method sha\n",
    "\n",
    "print(df['Engine Cylinders'].mean())\n",
    "print(df['Engine Cylinders'].median())\n",
    "print(df['Engine Cylinders'].mode())\n",
    "sns.boxplot(df['Engine Cylinders'])\n",
    "\n",
    "#im using mean.. dont ask why... 'cause I don't know (for now at least)\n",
    "df['Engine Cylinders'].fillna(df['Engine Cylinders'].median(), inplace = True)\n",
    "\n",
    "sns.boxplot(df['Engine Cylinders'])"
   ]
  },
  {
   "cell_type": "code",
   "execution_count": 11,
   "metadata": {},
   "outputs": [],
   "source": [
    "#I dont care about the number of doors just use ffill\n",
    "df['Number of Doors'].fillna(method='ffill', inplace = True)\n"
   ]
  },
  {
   "cell_type": "code",
   "execution_count": 12,
   "metadata": {},
   "outputs": [
    {
     "name": "stdout",
     "output_type": "stream",
     "text": [
      "['Factory Tuner,Luxury,High-Performance' 'Luxury,Performance'\n",
      " 'Luxury,High-Performance' 'Luxury' 'Performance' 'Flex Fuel'\n",
      " 'Flex Fuel,Performance' nan 'Hatchback' 'Hatchback,Luxury,Performance'\n",
      " 'Hatchback,Luxury' 'Luxury,High-Performance,Hybrid' 'Diesel,Luxury'\n",
      " 'Hatchback,Performance' 'Hatchback,Factory Tuner,Performance'\n",
      " 'High-Performance' 'Factory Tuner,High-Performance'\n",
      " 'Exotic,High-Performance' 'Exotic,Factory Tuner,High-Performance'\n",
      " 'Factory Tuner,Performance' 'Crossover' 'Exotic,Luxury'\n",
      " 'Exotic,Luxury,High-Performance' 'Exotic,Luxury,Performance'\n",
      " 'Factory Tuner,Luxury,Performance' 'Flex Fuel,Luxury' 'Crossover,Luxury'\n",
      " 'Hatchback,Factory Tuner,Luxury,Performance' 'Crossover,Hatchback'\n",
      " 'Hybrid' 'Luxury,Performance,Hybrid'\n",
      " 'Crossover,Luxury,Performance,Hybrid' 'Crossover,Luxury,Performance'\n",
      " 'Exotic,Factory Tuner,Luxury,High-Performance'\n",
      " 'Flex Fuel,Luxury,High-Performance' 'Crossover,Flex Fuel' 'Diesel'\n",
      " 'Hatchback,Diesel' 'Crossover,Luxury,Diesel'\n",
      " 'Crossover,Luxury,High-Performance'\n",
      " 'Exotic,Flex Fuel,Factory Tuner,Luxury,High-Performance'\n",
      " 'Exotic,Flex Fuel,Luxury,High-Performance'\n",
      " 'Exotic,Factory Tuner,Luxury,Performance' 'Hatchback,Hybrid'\n",
      " 'Crossover,Hybrid' 'Hatchback,Luxury,Hybrid'\n",
      " 'Flex Fuel,Luxury,Performance' 'Crossover,Performance' 'Luxury,Hybrid'\n",
      " 'Crossover,Flex Fuel,Luxury,Performance' 'Crossover,Flex Fuel,Luxury'\n",
      " 'Crossover,Flex Fuel,Performance'\n",
      " 'Hatchback,Factory Tuner,High-Performance' 'Hatchback,Flex Fuel'\n",
      " 'Factory Tuner,Luxury' 'Crossover,Factory Tuner,Luxury,High-Performance'\n",
      " 'Crossover,Factory Tuner,Luxury,Performance'\n",
      " 'Crossover,Hatchback,Factory Tuner,Performance'\n",
      " 'Crossover,Hatchback,Performance' 'Flex Fuel,Hybrid'\n",
      " 'Flex Fuel,Performance,Hybrid' 'Crossover,Exotic,Luxury,High-Performance'\n",
      " 'Crossover,Exotic,Luxury,Performance' 'Exotic,Performance'\n",
      " 'Exotic,Luxury,High-Performance,Hybrid' 'Crossover,Luxury,Hybrid'\n",
      " 'Flex Fuel,Factory Tuner,Luxury,High-Performance' 'Performance,Hybrid'\n",
      " 'Crossover,Factory Tuner,Performance' 'Crossover,Diesel'\n",
      " 'Flex Fuel,Diesel' 'Crossover,Hatchback,Luxury']\n"
     ]
    }
   ],
   "source": [
    "#Market Category\n",
    "#this is a categorical column\n",
    "print(df['Market Category'].unique())\n",
    "#print(df['Market Category'].value_counts())\n",
    "# plt.figure(figsize=(10, 10))\n",
    "# plt.xticks(rotation=-45)\n",
    "# sns.barplot(x=df['Market Category'].unique()[:-1], y=df['Market Category'].value_counts())"
   ]
  },
  {
   "cell_type": "markdown",
   "metadata": {},
   "source": [
    "OKAY THE COLUMN LABELS WERE TOO MUCH (AND ALMOST OVERWHELMING) SO I DECIDED TO CREATE A MODEL TO PREDICT THEM "
   ]
  },
  {
   "cell_type": "code",
   "execution_count": 13,
   "metadata": {},
   "outputs": [
    {
     "data": {
      "text/plain": [
       "Make                    0\n",
       "Model                   0\n",
       "Year                    0\n",
       "Engine Fuel Type        0\n",
       "Engine HP               0\n",
       "Engine Cylinders        0\n",
       "Transmission Type       0\n",
       "Driven_Wheels           0\n",
       "Number of Doors         0\n",
       "Market Category      3742\n",
       "Vehicle Size            0\n",
       "Vehicle Style           0\n",
       "highway MPG             0\n",
       "city mpg                0\n",
       "Popularity              0\n",
       "MSRP                    0\n",
       "dtype: int64"
      ]
     },
     "execution_count": 13,
     "metadata": {},
     "output_type": "execute_result"
    }
   ],
   "source": [
    "df.isna().sum()"
   ]
  },
  {
   "cell_type": "markdown",
   "metadata": {},
   "source": []
  }
 ],
 "metadata": {
  "kernelspec": {
   "display_name": "Python 3.10.7 64-bit (microsoft store)",
   "language": "python",
   "name": "python3"
  },
  "language_info": {
   "codemirror_mode": {
    "name": "ipython",
    "version": 3
   },
   "file_extension": ".py",
   "mimetype": "text/x-python",
   "name": "python",
   "nbconvert_exporter": "python",
   "pygments_lexer": "ipython3",
   "version": "3.10.7"
  },
  "orig_nbformat": 4,
  "vscode": {
   "interpreter": {
    "hash": "1fb6802bca10536631454388dc7754e14df50e11a5efcab5b6d4dac13af1b70b"
   }
  }
 },
 "nbformat": 4,
 "nbformat_minor": 2
}
