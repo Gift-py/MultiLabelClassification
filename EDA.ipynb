{
 "cells": [
  {
   "cell_type": "code",
   "execution_count": null,
   "metadata": {},
   "outputs": [],
   "source": [
    "import numpy as np\n",
    "import pandas as pd\n",
    "import seaborn as sns\n",
    "import matplotlib.pyplot as plt"
   ]
  },
  {
   "cell_type": "code",
   "execution_count": null,
   "metadata": {},
   "outputs": [],
   "source": [
    "df = pd.read_csv('data.csv')"
   ]
  },
  {
   "cell_type": "markdown",
   "metadata": {},
   "source": [
    "AI classes assignment"
   ]
  },
  {
   "cell_type": "code",
   "execution_count": null,
   "metadata": {},
   "outputs": [],
   "source": [
    "eng_cylinders_median = df['Engine Cylinders'].median()\n",
    "eng_cylinders_mode = df['Engine Cylinders'].mode()\n",
    "df['Engine Cylinders'].fillna(value=eng_cylinders_mode, inplace=True)\n",
    "eng_cylinders_median2 = df['Engine Cylinders'].median()\n",
    "\n",
    "print(eng_cylinders_median, eng_cylinders_median2)\n",
    "df['Engine Cylinders'].isna().sum()\n"
   ]
  },
  {
   "cell_type": "code",
   "execution_count": null,
   "metadata": {},
   "outputs": [],
   "source": [
    "lotusdf = df[df['Make'] == 'Lotus']\n",
    "lotusdf = lotusdf[['Engine HP' ,'Engine Cylinders']]\n",
    "lotusdf = lotusdf.drop_duplicates()\n",
    "lotusdf"
   ]
  },
  {
   "cell_type": "code",
   "execution_count": null,
   "metadata": {},
   "outputs": [],
   "source": [
    "#converting lotus df to numpy array\n",
    "x = lotusdf.to_numpy()\n",
    "#transpose of x  (\"@\" operation is multiplication)\n",
    "x_t = x.T @ x\n",
    "#inverse x transpose\n",
    "x_t_inverse = np.linalg.inv(x_t)\n",
    "x_t_inverse\n"
   ]
  },
  {
   "cell_type": "code",
   "execution_count": null,
   "metadata": {},
   "outputs": [],
   "source": [
    "y = np.array([1100, 800, 750, 850, 1300, 1000, 1000, 1300, 800])\n",
    "\n",
    "w = (x_t_inverse @ x.T) @ y\n",
    "\n",
    "w[0]\n",
    "\n",
    "#w is the normal equation\n",
    "#NORMAL EQUATION => \n",
    "# w = (X.T * X)^-1 * X.T * Y"
   ]
  },
  {
   "cell_type": "markdown",
   "metadata": {},
   "source": [
    "My Puny attempt at EDA (PS I have no idea what im doing Im just going to play around here)"
   ]
  },
  {
   "cell_type": "code",
   "execution_count": null,
   "metadata": {},
   "outputs": [],
   "source": [
    "#check for missing values\n",
    "df.isna().sum()"
   ]
  },
  {
   "cell_type": "code",
   "execution_count": null,
   "metadata": {},
   "outputs": [],
   "source": [
    "#aiit a couple of missing values now to find a way to fill them \n",
    "#I could try filling the values, column by column ()\n",
    "\n",
    "#engine fuel type is a categorical column \n",
    "print(df['Engine Fuel Type'].unique())      #10 unique categories\n",
    "\n",
    "df[df['Engine Fuel Type'].isna()]       #okayy we can see them they probably have the same fuel type since they are of the same car model\n",
    "#sooo i check the data manually and the fuel type is most likely going to be 'regular unleaded' since the later model of the car uses the same fuel type\n",
    "#I'm just going to perform a simple ffill\n",
    "\n",
    "df['Engine Fuel Type'].fillna(method='ffill', inplace=True)"
   ]
  },
  {
   "cell_type": "code",
   "execution_count": null,
   "metadata": {},
   "outputs": [],
   "source": [
    "#Engine HP\n",
    "#since Engine HP is a numeric column\n",
    "#we can check distribution and fill columns from the graph\n",
    "\n",
    "print(df['Engine HP'].mean())\n",
    "print(df['Engine HP'].median())\n",
    "print(df['Engine HP'].mode())\n",
    "sns.kdeplot(df['Engine HP'])\n",
    "#sns.boxplot(df['Engine HP'])\n",
    "\n",
    "#I'm going to use median since the distribution is skewed and there are outliers so we cannot really use mean\n",
    "#I would've probably used mode but !!! It just does'nt fell right to do so 🤔\n",
    "\n",
    "df['Engine HP'].fillna(df['Engine HP'].median(), inplace = True)\n",
    "\n",
    "#sns.kdeplot(df['Engine HP'])    #mehh looks roughly thesame idk"
   ]
  },
  {
   "cell_type": "code",
   "execution_count": null,
   "metadata": {},
   "outputs": [],
   "source": [
    "#Engine Cylinders\n",
    "#using the same method sha\n",
    "\n",
    "print(df['Engine Cylinders'].mean())\n",
    "print(df['Engine Cylinders'].median())\n",
    "print(df['Engine Cylinders'].mode())\n",
    "sns.boxplot(df['Engine Cylinders'])\n",
    "\n",
    "#im using mean.. dont ask why... 'cause I don't know (for now at least)\n",
    "df['Engine Cylinders'].fillna(df['Engine Cylinders'].median(), inplace = True)\n",
    "\n",
    "sns.boxplot(df['Engine Cylinders'])"
   ]
  },
  {
   "cell_type": "code",
   "execution_count": null,
   "metadata": {},
   "outputs": [],
   "source": [
    "#I dont care about the number of doors just use ffill\n",
    "df['Number of Doors'].fillna(method='ffill', inplace = True)\n"
   ]
  },
  {
   "cell_type": "code",
   "execution_count": null,
   "metadata": {},
   "outputs": [],
   "source": [
    "#Market Category\n",
    "#this is a categorical column\n",
    "lst = df['Market Category'].unique()\n",
    "print(lst)"
   ]
  },
  {
   "cell_type": "markdown",
   "metadata": {},
   "source": [
    "OKAY THE COLUMN LABELS WERE TOO MUCH (AND ALMOST OVERWHELMING) SO I DECIDED TO CREATE A MODEL TO PREDICT THEM "
   ]
  },
  {
   "cell_type": "code",
   "execution_count": null,
   "metadata": {},
   "outputs": [],
   "source": [
    "market_category_list = []\n",
    "for i in lst:\n",
    "    if isinstance(i, str):\n",
    "        if ',' in i:\n",
    "            new_list = i.split(',')\n",
    "            for j in new_list:\n",
    "                if j in market_category_list:\n",
    "                    print(j, 'already found')\n",
    "                    continue\n",
    "                else:\n",
    "                    market_category_list.append(j)\n",
    "                    print(j, 'added')\n",
    "        else:\n",
    "            if i in market_category_list:\n",
    "                print(i, 'already found')\n",
    "                continue\n",
    "            else:\n",
    "                market_category_list.append(i)\n",
    "                print(i, 'added')\n"
   ]
  },
  {
   "cell_type": "code",
   "execution_count": null,
   "metadata": {},
   "outputs": [],
   "source": [
    "prediction_df = df.loc[df['Market Category'].isna()]\n",
    "df.drop(df.index[df['Market Category'].isna()], inplace=True)"
   ]
  },
  {
   "cell_type": "code",
   "execution_count": null,
   "metadata": {},
   "outputs": [],
   "source": [
    "plt.figure(figsize=(10, 10))\n",
    "plt.xticks(rotation=-90)\n",
    "sns.barplot(x=df['Market Category'].unique(), y=df['Market Category'].value_counts())"
   ]
  }
 ],
 "metadata": {
  "kernelspec": {
   "display_name": "Python 3.10.7 64-bit (microsoft store)",
   "language": "python",
   "name": "python3"
  },
  "language_info": {
   "codemirror_mode": {
    "name": "ipython",
    "version": 3
   },
   "file_extension": ".py",
   "mimetype": "text/x-python",
   "name": "python",
   "nbconvert_exporter": "python",
   "pygments_lexer": "ipython3",
   "version": "3.10.7"
  },
  "orig_nbformat": 4,
  "vscode": {
   "interpreter": {
    "hash": "1fb6802bca10536631454388dc7754e14df50e11a5efcab5b6d4dac13af1b70b"
   }
  }
 },
 "nbformat": 4,
 "nbformat_minor": 2
}
