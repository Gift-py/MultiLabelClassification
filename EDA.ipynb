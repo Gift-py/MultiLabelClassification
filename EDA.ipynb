{
 "cells": [
  {
   "cell_type": "code",
   "execution_count": null,
   "metadata": {},
   "outputs": [],
   "source": [
    "import numpy as np\n",
    "import pandas as pd\n",
    "import seaborn as sns\n",
    "import matplotlib.pyplot as plt"
   ]
  },
  {
   "cell_type": "code",
   "execution_count": null,
   "metadata": {},
   "outputs": [],
   "source": [
    "df = pd.read_csv('data.csv')"
   ]
  },
  {
   "cell_type": "markdown",
   "metadata": {},
   "source": [
    "AI classes assignment"
   ]
  },
  {
   "cell_type": "code",
   "execution_count": null,
   "metadata": {},
   "outputs": [],
   "source": [
    "eng_cylinders_median = df['Engine Cylinders'].median()\n",
    "eng_cylinders_mode = df['Engine Cylinders'].mode()\n",
    "df['Engine Cylinders'].fillna(value=eng_cylinders_mode, inplace=True)\n",
    "eng_cylinders_median2 = df['Engine Cylinders'].median()\n",
    "\n",
    "print(eng_cylinders_median, eng_cylinders_median2)\n",
    "df['Engine Cylinders'].isna().sum()\n"
   ]
  },
  {
   "cell_type": "code",
   "execution_count": null,
   "metadata": {},
   "outputs": [],
   "source": [
    "lotusdf = df[df['Make'] == 'Lotus']\n",
    "lotusdf = lotusdf[['Engine HP' ,'Engine Cylinders']]\n",
    "lotusdf = lotusdf.drop_duplicates()\n",
    "lotusdf"
   ]
  },
  {
   "cell_type": "code",
   "execution_count": null,
   "metadata": {},
   "outputs": [],
   "source": [
    "#converting lotus df to numpy array\n",
    "x = lotusdf.to_numpy()\n",
    "#transpose of x  (\"@\" operation is multiplication)\n",
    "x_t = x.T @ x\n",
    "#inverse x transpose\n",
    "x_t_inverse = np.linalg.inv(x_t)\n",
    "x_t_inverse\n"
   ]
  },
  {
   "cell_type": "code",
   "execution_count": null,
   "metadata": {},
   "outputs": [],
   "source": [
    "y = np.array([1100, 800, 750, 850, 1300, 1000, 1000, 1300, 800])\n",
    "\n",
    "w = (x_t_inverse @ x.T) @ y\n",
    "\n",
    "w[0]\n",
    "\n",
    "#w is the normal equation\n",
    "#NORMAL EQUATION => \n",
    "# w = (X.T * X)^-1 * X.T * Y"
   ]
  },
  {
   "cell_type": "markdown",
   "metadata": {},
   "source": [
    "My Puny attempt at EDA (PS I have no idea what im doing Im just going to play around here)"
   ]
  },
  {
   "cell_type": "code",
   "execution_count": null,
   "metadata": {},
   "outputs": [],
   "source": [
    "#check for missing values\n",
    "df.isna().sum()"
   ]
  },
  {
   "cell_type": "code",
   "execution_count": null,
   "metadata": {},
   "outputs": [],
   "source": [
    "#aiit a couple of missing values now to find a way to fill them \n",
    "#I could try filling the values, column by column ()\n",
    "\n",
    "#engine fuel type is a categorical column \n",
    "print(df['Engine Fuel Type'].unique())      #10 unique categories\n",
    "\n",
    "df[df['Engine Fuel Type'].isna()]       #okayy we can see them they probably have the same fuel type since they are of the same car model\n",
    "#sooo i check the data manually and the fuel type is most likely going to be 'regular unleaded' since the later model of the car uses the same fuel type\n",
    "#I'm just going to perform a simple ffill\n",
    "\n",
    "df['Engine Fuel Type'].fillna(method='ffill', inplace=True)"
   ]
  },
  {
   "cell_type": "code",
   "execution_count": null,
   "metadata": {},
   "outputs": [],
   "source": [
    "#Engine HP\n",
    "#since Engine HP is a numeric column\n",
    "#we can check distribution and fill columns from the graph\n",
    "\n",
    "print(df['Engine HP'].mean())\n",
    "print(df['Engine HP'].median())\n",
    "print(df['Engine HP'].mode())\n",
    "sns.kdeplot(df['Engine HP'])\n",
    "#sns.boxplot(df['Engine HP'])\n",
    "\n",
    "#I'm going to use median since the distribution is skewed and there are outliers so we cannot really use mean\n",
    "#I would've probably used mode but !!! It just does'nt fell right to do so 🤔\n",
    "\n",
    "df['Engine HP'].fillna(df['Engine HP'].median(), inplace = True)\n",
    "\n",
    "#sns.kdeplot(df['Engine HP'])    #mehh looks roughly thesame idk"
   ]
  },
  {
   "cell_type": "code",
   "execution_count": null,
   "metadata": {},
   "outputs": [],
   "source": [
    "#Engine Cylinders\n",
    "#using the same method sha\n",
    "\n",
    "print(df['Engine Cylinders'].mean())\n",
    "print(df['Engine Cylinders'].median())\n",
    "print(df['Engine Cylinders'].mode())\n",
    "sns.boxplot(df['Engine Cylinders'])\n",
    "\n",
    "#im using mean.. dont ask why... 'cause I don't know (for now at least)\n",
    "df['Engine Cylinders'].fillna(df['Engine Cylinders'].median(), inplace = True)\n",
    "\n",
    "sns.boxplot(df['Engine Cylinders'])"
   ]
  },
  {
   "cell_type": "code",
   "execution_count": null,
   "metadata": {},
   "outputs": [],
   "source": [
    "#I dont care about the number of doors just use ffill\n",
    "df['Number of Doors'].fillna(method='ffill', inplace = True)\n"
   ]
  },
  {
   "cell_type": "code",
   "execution_count": null,
   "metadata": {},
   "outputs": [],
   "source": [
    "#Market Category\n",
    "#this is a categorical column\n",
    "lst = df['Market Category'].unique()\n",
    "print(lst)"
   ]
  },
  {
   "cell_type": "markdown",
   "metadata": {},
   "source": [
    "OKAY THE COLUMN LABELS WERE TOO MUCH (AND ALMOST OVERWHELMING) SO I DECIDED TO CREATE A MODEL TO PREDICT THEM "
   ]
  },
  {
   "cell_type": "code",
   "execution_count": null,
   "metadata": {},
   "outputs": [],
   "source": [
    "print(len(lst))"
   ]
  },
  {
   "cell_type": "code",
   "execution_count": null,
   "metadata": {},
   "outputs": [],
   "source": [
    "category_list = []\n",
    "for i in lst:\n",
    "    if isinstance(i, str):\n",
    "        if ',' in i:\n",
    "            new_list = i.split(',')\n",
    "            for j in new_list:\n",
    "                if j in category_list:\n",
    "                    print(j, 'already found')\n",
    "                    continue\n",
    "                else:\n",
    "                    category_list.append(j)\n",
    "                    print(j, 'added')\n",
    "        else:\n",
    "            if i in category_list:\n",
    "                print(i, 'already found')\n",
    "                continue\n",
    "            else:\n",
    "                category_list.append(i)\n",
    "                print(i, 'added')\n"
   ]
  },
  {
   "cell_type": "code",
   "execution_count": null,
   "metadata": {},
   "outputs": [],
   "source": [
    "category_list"
   ]
  },
  {
   "cell_type": "code",
   "execution_count": null,
   "metadata": {},
   "outputs": [],
   "source": [
    "prediction_df = df.loc[df['Market Category'].isna()]\n",
    "df.drop(df.index[df['Market Category'].isna()], inplace=True)\n"
   ]
  },
  {
   "cell_type": "code",
   "execution_count": null,
   "metadata": {},
   "outputs": [],
   "source": [
    "prediction_df"
   ]
  },
  {
   "cell_type": "code",
   "execution_count": null,
   "metadata": {},
   "outputs": [],
   "source": [
    "#well then our data contains one label combination than others \n",
    "plt.figure(figsize=(10, 10))\n",
    "plt.xticks(rotation=-90)\n",
    "sns.barplot(x=df['Market Category'].unique(), y=df['Market Category'].value_counts())"
   ]
  },
  {
   "cell_type": "code",
   "execution_count": null,
   "metadata": {},
   "outputs": [],
   "source": [
    "#seperating them\n",
    "df_y = df.pop('Market Category')"
   ]
  },
  {
   "cell_type": "code",
   "execution_count": null,
   "metadata": {},
   "outputs": [],
   "source": [
    "for col in df.columns:\n",
    "    print(df[col].unique())\n",
    "    print('\\n')"
   ]
  },
  {
   "cell_type": "code",
   "execution_count": null,
   "metadata": {},
   "outputs": [],
   "source": [
    "df_y.apply(lambda x: [i for i in x])\n",
    "df.pop('Model')\n",
    "prediction_df.pop('Model')\n",
    "prediction_df.pop('Market Category')\n"
   ]
  },
  {
   "cell_type": "code",
   "execution_count": null,
   "metadata": {},
   "outputs": [],
   "source": [
    "#custom OHE function for list\n",
    "\n",
    "def ohe_list(df_col, categories):\n",
    "    #create a dictionary map\n",
    "    label_to_int = dict((c, i) for i, c in enumerate(categories))\n",
    "    int_to_label = dict((i, c) for i, c in enumerate(categories))\n",
    "\n",
    "    #encode to integer\n",
    "    label_encoded = [[[label_to_int[label] for label in cell.split(',') ] for cell in row] for row in df_col]\n",
    "\n",
    "    #create one hot list\n",
    "    oh_list = list()\n",
    "\n",
    "    for row in label_encoded:\n",
    "        for cell in row:\n",
    "            cell_enc = [0 for _ in range(len(categories))]\n",
    "            for label in cell:\n",
    "                cell_enc[label] = 1\n",
    "            oh_list.append(cell_enc)\n",
    "\n",
    "    return oh_list \n"
   ]
  },
  {
   "cell_type": "code",
   "execution_count": null,
   "metadata": {},
   "outputs": [],
   "source": [
    "from keras.models import Sequential\n",
    "from keras.layers import Dense\n",
    "from sklearn.model_selection import RepeatedKFold\n",
    "from sklearn.metrics import accuracy_score\n",
    "\n",
    "def get_model(n_inputs, n_outputs):\n",
    "    model = Sequential()\n",
    "    model.add(Dense(20, input_dim=n_inputs, kernel_initializer='he_uniform', activation='relu'))\n",
    "    model.add(Dense(n_outputs, activation='sigmoid'))\n",
    "    model.compile(loss='binary_crossentropy', optimizer='adam')\n",
    "    return model\n",
    "\n",
    "def evaluate_model(X, y):\n",
    "    results = list()\n",
    "    n_inputs, n_outputs = X.shape[1], y.shape[1]\n",
    "\n",
    "    #evaluation procedure\n",
    "    cv = RepeatedKFold(n_splits=10, n_repeats=3, random_state=1)\n",
    "\n",
    "    for train_ix, test_ix in cv.split(X):\n",
    "        #prep training data\n",
    "        X_train, X_test = X[train_ix], X[test_ix]\n",
    "        y_train, y_test = y[train_ix], y[test_ix]\n",
    "\n",
    "        #model\n",
    "        model = get_model(n_inputs, n_outputs)\n",
    "        model.fit(X_train, y_train, epochs=100)\n",
    "\n",
    "        y_hat = model.predict(y_test)\n",
    "        y_hat = y_hat.round()\n",
    "\n",
    "        acc = accuracy_score(y_test, y_hat)\n",
    "\n",
    "        print('>%.3f' % acc)\n",
    "        results.append(acc)\n",
    "    return results"
   ]
  },
  {
   "cell_type": "code",
   "execution_count": null,
   "metadata": {},
   "outputs": [],
   "source": []
  }
 ],
 "metadata": {
  "kernelspec": {
   "display_name": "Python 3.10.7 64-bit (microsoft store)",
   "language": "python",
   "name": "python3"
  },
  "language_info": {
   "codemirror_mode": {
    "name": "ipython",
    "version": 3
   },
   "file_extension": ".py",
   "mimetype": "text/x-python",
   "name": "python",
   "nbconvert_exporter": "python",
   "pygments_lexer": "ipython3",
   "version": "3.10.7"
  },
  "orig_nbformat": 4,
  "vscode": {
   "interpreter": {
    "hash": "1fb6802bca10536631454388dc7754e14df50e11a5efcab5b6d4dac13af1b70b"
   }
  }
 },
 "nbformat": 4,
 "nbformat_minor": 2
}
